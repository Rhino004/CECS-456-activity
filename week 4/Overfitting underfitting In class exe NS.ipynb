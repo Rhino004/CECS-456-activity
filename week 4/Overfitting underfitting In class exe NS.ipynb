{
 "cells": [
  {
   "cell_type": "code",
   "execution_count": null,
   "id": "8a4d388e-3571-4847-887b-d2ceaa319dd1",
   "metadata": {},
   "outputs": [],
   "source": [
    "import numpy as np\n",
    "import matplotlib.pyplot as plt\n",
    "import pandas as pd\n",
    "from sklearn.model_selection import train_test_split\n",
    "from sklearn.preprocessing import PolynomialFeatures, StandardScaler\n",
    "from sklearn.linear_model import LogisticRegression\n",
    "from sklearn.metrics import accuracy_score, precision_score, recall_score, f1_score, roc_auc_score, roc_curve\n",
    "from sklearn.datasets import load_breast_cancer\n",
    "\n",
    "# Task 1: Load real-world dataset (Breast Cancer Wisconsin dataset)\n",
    "# Question: How does real-world data differ from synthetic data?\n",
    "data = load_breast_cancer()\n",
    "X = data.data[:, :2]  # Use the first two features for visualization purposes\n",
    "y = data.target\n",
    "\n",
    "# Standardize features to improve convergence\n",
    "scaler = StandardScaler()\n",
    "X = scaler.fit_transform(X)\n",
    "\n"
   ]
  },
  {
   "cell_type": "code",
   "execution_count": null,
   "id": "20cd2503-d5e9-4251-a470-bd172694f59b",
   "metadata": {},
   "outputs": [],
   "source": [
    "X_train, X_test, y_train, y_test = train_test_split(X, y, test_size=0.2, random_state=42)"
   ]
  },
  {
   "cell_type": "code",
   "execution_count": null,
   "id": "217bd741-f793-44db-8878-a224626c122a",
   "metadata": {},
   "outputs": [],
   "source": []
  },
  {
   "cell_type": "code",
   "execution_count": null,
   "id": "9d644da9-91d4-4dd6-bc6c-8ed49e980918",
   "metadata": {},
   "outputs": [],
   "source": [
    "# Task 2: Write a function to train and evaluate logistic regression models with polynomial features\n",
    "# Question: What does polynomial transformation do to our feature set?\n",
    "def evaluate_model(degree, C=1.0, max_iter=10000):\n",
    "    poly = PolynomialFeatures(degree=degree)\n",
    "    X_train_poly = poly.fit_transform(X_train)\n",
    "    X_test_poly = poly.transform(X_test)\n",
    "    \n",
    "    # Task 2.1: Implement Logistic Regression Model with regularization\n",
    "    # Question: How does logistic regression differ from linear regression?\n",
    "    # Explanation: Logistic regression is used for classification, applying the sigmoid function to outputs\n",
    "    # to map them to probabilities, whereas linear regression predicts continuous values.\n",
    "    \n",
    "    # Explanation: C is the inverse of regularization strength. A smaller C applies stronger regularization,\n",
    "    # which can prevent overfitting but may lead to underfitting. A larger C reduces regularization,\n",
    "    # allowing the model to fit the data more closely but increasing the risk of overfitting.\n",
    "    model = LogisticRegression(C=C, penalty='l2', solver='lbfgs', max_iter=max_iter)\n",
    "    model.fit(X_train_poly, y_train)\n",
    "    \n",
    "    y_train_pred = model.predict(X_train_poly)\n",
    "    y_test_pred = model.predict(X_test_poly)\n",
    "    y_test_prob = model.predict_proba(X_test_poly)[:, 1]  # Probabilities for ROC-AUC\n",
    "    \n",
    "    # Task 2.2: Calculate evaluation metrics\n",
    "    # Question: What does accuracy measure, and when can it be misleading?\n",
    "    train_acc = accuracy_score(y_train, y_train_pred)\n",
    "    test_acc = accuracy_score(y_test, y_test_pred)\n",
    "    precision = precision_score(y_test, y_test_pred)\n",
    "    recall = recall_score(y_test, y_test_pred)\n",
    "    f1 = f1_score(y_test, y_test_pred)\n",
    "    roc_auc = roc_auc_score(y_test, y_test_prob)\n",
    "    \n",
    "    \n",
    "    print(f\"Degree {degree}, C={C}:\")\n",
    "    print(f\"  Train Accuracy: {train_acc:.2f}, Test Accuracy: {test_acc:.2f}\")\n",
    "    print(f\"  Precision: {precision:.2f}, Recall: {recall:.2f}, F1 Score: {f1:.2f}\")\n",
    "    print(f\"  ROC-AUC: {roc_auc:.2f}\\n\")\n",
    "    \n",
    "    # Task 2.3: Plot decision boundary (only for 2D features)\n",
    "    if X.shape[1] == 2:\n",
    "        plt.scatter(X_train[:, 0], X_train[:, 1], c=y_train, cmap='coolwarm', label='Train data', alpha=0.6)\n",
    "        plt.scatter(X_test[:, 0], X_test[:, 1], c=y_test, cmap='coolwarm', marker='x', label='Test data')\n",
    "        plt.legend()\n",
    "        plt.title(f'Polynomial Logistic Regression (Degree {degree}, C={C})')\n",
    "        plt.show()\n",
    "    \n",
    "    # Task 2.4: Plot ROC Curve\n",
    "    # Question: What does the ROC curve show us about model performance?\n",
    "\n",
    "\n",
    "\n",
    "\n",
    "\n"
   ]
  },
  {
   "cell_type": "code",
   "execution_count": null,
   "id": "25ed9ddb-87d4-4d76-b5fb-b13c2f6559b1",
   "metadata": {},
   "outputs": [],
   "source": []
  },
  {
   "cell_type": "code",
   "execution_count": null,
   "id": "bc93b098-6f67-4d53-8cf7-65147ab950f0",
   "metadata": {},
   "outputs": [],
   "source": []
  },
  {
   "cell_type": "code",
   "execution_count": null,
   "id": "9eb86aab-20b4-4fb0-bdd5-af087382c9ed",
   "metadata": {},
   "outputs": [],
   "source": [
    "# Task 3: Evaluate models with different degrees\n",
    "# Question: What do you expect to see for different polynomial degrees?\n",
    "evaluate_model(1, C=1.0) "
   ]
  },
  {
   "cell_type": "code",
   "execution_count": null,
   "id": "656a5fba-883f-4efc-b335-ed7f45166f18",
   "metadata": {},
   "outputs": [],
   "source": []
  },
  {
   "cell_type": "code",
   "execution_count": null,
   "id": "0d040e32-81ff-4e66-90ad-5cea0870f399",
   "metadata": {},
   "outputs": [],
   "source": [
    "# Task 4: Modify the degree values and analyze the impact\n",
    "# Question: How do the evaluation metrics change with different degrees and C values?\n",
    "evaluate_model(2, C=1.0)  \n",
    "evaluate_model(3, C=1.0) "
   ]
  },
  {
   "cell_type": "code",
   "execution_count": null,
   "id": "6fc5c336-6226-4f01-89be-cfc7d00a8815",
   "metadata": {},
   "outputs": [],
   "source": []
  }
 ],
 "metadata": {
  "kernelspec": {
   "display_name": "Python 3 (ipykernel)",
   "language": "python",
   "name": "python3"
  },
  "language_info": {
   "codemirror_mode": {
    "name": "ipython",
    "version": 3
   },
   "file_extension": ".py",
   "mimetype": "text/x-python",
   "name": "python",
   "nbconvert_exporter": "python",
   "pygments_lexer": "ipython3",
   "version": "3.12.4"
  }
 },
 "nbformat": 4,
 "nbformat_minor": 5
}
